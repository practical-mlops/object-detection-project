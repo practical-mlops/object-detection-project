{
 "cells": [
  {
   "cell_type": "code",
   "execution_count": null,
   "metadata": {},
   "outputs": [],
   "source": [
    "import cv2\n",
    "import numpy as np\n",
    "import matplotlib.pyplot as plt\n",
    "from ultralytics import YOLO\n",
    "from yolo_cam.eigen_cam import EigenCAM\n",
    "from yolo_cam.utils.image import show_cam_on_image\n",
    "model = YOLO(\"../serving/yolov8_custom.pt\")\n",
    "target_layers =[model.model.model[-2], model.model.model[-3], model.model.model[-4]]\n",
    "cam = EigenCAM(model, target_layers,task='od')\n",
    "img_list = [\"CA01_06.tif\",\"CA01_02.tif\",\"CA01_30.tif\"]\n",
    "for i in img_list:\n",
    "    img = cv2.imread(i)\n",
    "    rgb_img = img.copy()\n",
    "    img = np.float32(img) / 255\n",
    "    grayscale_cam = cam(rgb_img)[0, :, :]\n",
    "    \n",
    "    cam_image = show_cam_on_image(img, grayscale_cam, use_rgb=True)\n",
    "    plt.imshow(cam_image)\n",
    "    plt.show() "
   ]
  }
 ],
 "metadata": {
  "language_info": {
   "name": "python"
  }
 },
 "nbformat": 4,
 "nbformat_minor": 2
}
